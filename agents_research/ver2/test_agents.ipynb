{
 "cells": [
  {
   "cell_type": "code",
   "execution_count": 1,
   "metadata": {},
   "outputs": [],
   "source": [
    "import os\n",
    "\n",
    "from autogen_agentchat.agents import AssistantAgent\n",
    "from autogen_core.models import UserMessage\n",
    "from autogen_ext.models.azure import AzureAIChatCompletionClient\n",
    "from azure.core.credentials import AzureKeyCredential\n",
    "from autogen_core import CancellationToken\n",
    "\n",
    "from autogen_agentchat.messages import TextMessage\n",
    "from autogen_agentchat.ui import Console\n",
    "import asyncio"
   ]
  },
  {
   "cell_type": "code",
   "execution_count": null,
   "metadata": {},
   "outputs": [],
   "source": [
    "GITHUB_TOKEN = \"\""
   ]
  },
  {
   "cell_type": "markdown",
   "metadata": {},
   "source": [
    "use GitHub Models for access to the LLM.\n",
    "https://github.com/marketplace/models"
   ]
  },
  {
   "cell_type": "markdown",
   "metadata": {},
   "source": [
    "# Use Autogen 0.4 (autogen_agentchat | autogen_core)"
   ]
  },
  {
   "cell_type": "markdown",
   "metadata": {},
   "source": [
    "## Create the Client"
   ]
  },
  {
   "cell_type": "code",
   "execution_count": 71,
   "metadata": {},
   "outputs": [
    {
     "name": "stdout",
     "output_type": "stream",
     "text": [
      "finish_reason='stop' content=\"<think>\\nOkay, the user is asking for the capital of Vietnam. Let me think. Vietnam is a country in Southeast Asia. From what I remember, the capital city is Hanoi. Wait, but sometimes people might confuse it with Ho Chi Minh City, which used to be called Saigon. Ho Chi Minh City is a major city, but I'm pretty sure the official capital is still Hanoi. Let me double-check. Yes, Hanoi has been the capital since the reunification of North and South Vietnam in 1976. The government offices and historical landmarks like the Ho Chi Minh Mausoleum are located there. So the answer should be Hanoi.\\n</think>\\n\\nThủ đô của Việt Nam là **Hà Nội**. Đây là trung tâm chính trị, văn hóa và hành chính của đất nước, đồng thời là một trong những thành phố lớn nhất Việt Nam với bề dày lịch sử hàng nghìn năm.\" usage=RequestUsage(prompt_tokens=15, completion_tokens=209) cached=False logprobs=None thought=None\n"
     ]
    }
   ],
   "source": [
    "client = AzureAIChatCompletionClient(\n",
    "    model=\"DeepSeek-R1\",\n",
    "    endpoint=\"https://models.inference.ai.azure.com\",\n",
    "    credential=AzureKeyCredential(GITHUB_TOKEN),\n",
    "    model_info={\n",
    "        \"json_output\": True,\n",
    "        \"function_calling\": True,\n",
    "        \"vision\": False,\n",
    "        \"family\": \"unknown\",\n",
    "    },\n",
    ")\n",
    "\n",
    "result = await client.create([UserMessage(content=\"Thủ đô của Việt Nam là gì?\", source=\"user\")])\n",
    "print(result)"
   ]
  },
  {
   "cell_type": "code",
   "execution_count": 72,
   "metadata": {},
   "outputs": [
    {
     "name": "stdout",
     "output_type": "stream",
     "text": [
      "finish_reason='stop' content=' Thủ đô của Việt Nam là Hà Nội. Đây là trung tâm chính trị, văn hóa và lịch sử lớn của đất nước, nằm ở phía Bắc Việt Nam, bên bờ sông Hồng. Hà Nội là nơi đặt trụ sở của chính phủ và các cơ quan quan trọng khác của Việt Nam. Thành phố này cũng nổi tiếng với các địa điểm du lịch lịch sử và văn hóa như Hoàng thành Thăng Long, Quảng trường Ba Đình, Nhà hát lớn Hà Nội và Hồ Gươm.' usage=RequestUsage(prompt_tokens=19, completion_tokens=249) cached=False logprobs=None thought=None\n"
     ]
    }
   ],
   "source": [
    "client = AzureAIChatCompletionClient(\n",
    "    model=\"Phi-3.5-MoE-instruct\",\n",
    "    endpoint=\"https://models.inference.ai.azure.com\",\n",
    "    credential=AzureKeyCredential(GITHUB_TOKEN),\n",
    "    model_info={\n",
    "        \"json_output\": True,\n",
    "        \"function_calling\": True,\n",
    "        \"vision\": False,\n",
    "        \"family\": \"unknown\",\n",
    "    },\n",
    ")\n",
    "\n",
    "result = await client.create([UserMessage(content=\"Thủ đô của Việt Nam là gì?\", source=\"user\")])\n",
    "print(result)"
   ]
  },
  {
   "cell_type": "code",
   "execution_count": 73,
   "metadata": {},
   "outputs": [
    {
     "name": "stdout",
     "output_type": "stream",
     "text": [
      "finish_reason='stop' content='Thủ đô của Việt Nam là Hà Nội.' usage=RequestUsage(prompt_tokens=16, completion_tokens=10) cached=False logprobs=None thought=None\n"
     ]
    }
   ],
   "source": [
    "client = AzureAIChatCompletionClient(\n",
    "    model=\"gpt-4o-mini\",\n",
    "    endpoint=\"https://models.inference.ai.azure.com\",\n",
    "    credential=AzureKeyCredential(GITHUB_TOKEN),\n",
    "    model_info={\n",
    "        \"json_output\": True,\n",
    "        \"function_calling\": True,\n",
    "        \"vision\": False,\n",
    "        \"family\": \"unknown\",\n",
    "    },\n",
    ")\n",
    "\n",
    "result = await client.create([UserMessage(content=\"Thủ đô của Việt Nam là gì?\", source=\"user\")])\n",
    "print(result)"
   ]
  },
  {
   "cell_type": "markdown",
   "metadata": {},
   "source": [
    "## Defining the Agent"
   ]
  },
  {
   "cell_type": "code",
   "execution_count": 74,
   "metadata": {},
   "outputs": [],
   "source": [
    "agent = AssistantAgent(\n",
    "    name=\"assistant\",\n",
    "    model_client=client,\n",
    "    tools=[],\n",
    "    system_message=\"Bạn là một hướng dẫn viên du lịch hài hước\",\n",
    ")"
   ]
  },
  {
   "cell_type": "code",
   "execution_count": 75,
   "metadata": {},
   "outputs": [
    {
     "name": "stdout",
     "output_type": "stream",
     "text": [
      "assistant\n"
     ]
    }
   ],
   "source": [
    "print(agent.name)"
   ]
  },
  {
   "cell_type": "markdown",
   "metadata": {},
   "source": [
    "## Run the Agent"
   ]
  },
  {
   "cell_type": "code",
   "execution_count": 76,
   "metadata": {},
   "outputs": [
    {
     "name": "stdout",
     "output_type": "stream",
     "text": [
      "[]\n",
      "source='assistant' models_usage=RequestUsage(prompt_tokens=34, completion_tokens=475) content=\"Chào mừng bạn đến với Đại Nội Huế, nơi mà bạn sẽ không chỉ được chiêm ngưỡng kiến trúc hoàng gia đồ sộ mà còn có cơ hội khám phá những bí mật thú vị của triều đại Nguyễn!\\n\\nĐại Nội Huế, hay còn gọi là Cố đô Huế, được xây dựng vào thế kỷ 19 dưới triều đại vua Gia Long. Đây không chỉ là một lâu đài mà còn là một “biệt thự” siêu khủng với tường thành bao bọc và hào nước sâu, khiến bạn cảm giác như đang bước vào một bộ phim cổ trang. Tuy nhiên, đừng lo, ở đây không có rồng phun lửa hay vua chúa thích tranh giành ngôi báu xuất hiện đâu!\\n\\nBước vào cổng Ngọ Môn, bạn sẽ nhìn thấy không gian rộng lớn với những kiến trúc tinh xảo. Cùng với các điện, đền, và các khu vườn, bạn sẽ cảm thấy như mình vừa vào một thế giới của các nhà văn cổ. Chỉ cần mở miệng ra là có thể nói chuyện với hoàng đế (đương nhiên, nếu bạn уме bạn cũng sẽ không nhận được câu trả lời đâu).\\n\\nMột trong những điều thú vị là Đại Nội có 4 cổng ra vào, trông chúng giống như những cánh cửa dẫn vào thế giới ma quái, nơi mà bạn sẽ được nghe những câu chuyện về các hoàng đế và những cuộc chiến bảo vệ ngai vàng – hãy cẩn thận với những 'hồn ma' nổi tiếng vì họ có thể sẽ cho bạn nhiều bài học giá trị đấy!\\n\\nVà đừng quên thưởng thức ẩm thực Huế sau khi tham quan nhé! Các món như bún bò Huế hoặc bánh bèo có thể làm bạn quên hết mọi muộn phiền, và nếu không cẩn thận, bụng bạn có thể sẽ trở thành một trong những 'cung điện' lớn nhất ở Huế đó!\\n\\nHy vọng bạn sẽ có một chuyến khám phá thật vui vẻ và đầy thú vị tại Đại Nội Huế. Nếu không thích, bạn cứ nói với hoàng đế, nhưng nhớ là phải nói bằng tiếng... triều Nguyễn nhé!\" type='TextMessage'\n"
     ]
    }
   ],
   "source": [
    "# use the the on_message method to update the Agent's state with the new message\n",
    "async def assistant_run():\n",
    "    response = await agent.on_messages(\n",
    "        [TextMessage(content='Hãy giới thiệu cho tôi về Đại Nội Huế', source='user')],\n",
    "        cancellation_token=CancellationToken()\n",
    "    )\n",
    "    print(response.inner_messages)\n",
    "    print(response.chat_message)\n",
    "\n",
    "await assistant_run()"
   ]
  },
  {
   "cell_type": "markdown",
   "metadata": {},
   "source": [
    "# 1. Tool-USE"
   ]
  },
  {
   "cell_type": "code",
   "execution_count": 3,
   "metadata": {},
   "outputs": [],
   "source": [
    "import os\n",
    "import json\n",
    "\n",
    "import requests\n",
    "from autogen_agentchat.agents import AssistantAgent\n",
    "from autogen_core.models import UserMessage\n",
    "from autogen_ext.models.azure import AzureAIChatCompletionClient\n",
    "from azure.core.credentials import AzureKeyCredential\n",
    "from autogen_core import CancellationToken\n",
    "from autogen_core.tools import FunctionTool\n",
    "from autogen_agentchat.messages import TextMessage\n",
    "from autogen_agentchat.ui import Console\n",
    "from typing import Any, Callable, Set, Dict, List, Optional"
   ]
  },
  {
   "cell_type": "code",
   "execution_count": 10,
   "metadata": {},
   "outputs": [
    {
     "name": "stdout",
     "output_type": "stream",
     "text": [
      "finish_reason='stop' content='The capital of France is Paris.' usage=RequestUsage(prompt_tokens=14, completion_tokens=7) cached=False logprobs=None thought=None\n"
     ]
    }
   ],
   "source": [
    "client = AzureAIChatCompletionClient(\n",
    "    model=\"gpt-4o-mini\",\n",
    "    endpoint=\"https://models.inference.ai.azure.com\",\n",
    "    credential=AzureKeyCredential(GITHUB_TOKEN),\n",
    "    model_info={\n",
    "        \"json_output\": True,\n",
    "        \"function_calling\": True,\n",
    "        \"vision\": True,\n",
    "        \"family\": \"unknown\",\n",
    "    }\n",
    ")\n",
    "\n",
    "# Test call model\n",
    "result = await client.create([UserMessage(content=\"What is the capital of France?\", source=\"user\")])\n",
    "print(result)"
   ]
  },
  {
   "cell_type": "markdown",
   "metadata": {},
   "source": [
    "## 1.1 Defining the functions"
   ]
  },
  {
   "cell_type": "code",
   "execution_count": 11,
   "metadata": {},
   "outputs": [],
   "source": [
    "def vacation_destinations(city: str) -> tuple[str, str]:\n",
    "    \"\"\"\n",
    "    Checks if a specific vacation destination is available\n",
    "    \n",
    "    Args:\n",
    "        city (str): Name of the city to check\n",
    "        \n",
    "    Returns:\n",
    "        tuple: Contains city name and availability status ('Available' or 'Unavailable')\n",
    "    \"\"\"\n",
    "    destinations = {\n",
    "        \"Huế\": \"Còn trống\",\n",
    "        \"Đà Lạt\": \"Không còn trống\",\n",
    "        \"HCM\": \"Còn trống\",\n",
    "        \"Hà Nội\": \"Còn trống\",\n",
    "        \"Bình Định\": \"Không còn trống\",\n",
    "    }\n",
    "\n",
    "    if city in destinations:\n",
    "        return city, destinations[city]\n",
    "    else:\n",
    "        return city, \"City not found\"\n",
    "\n",
    "# # Example usage:\n",
    "# city, status = vacation_destinations(\"Đà Lạt\")\n",
    "# print(f\"How about visiting {city}? It's currently {status} there!\")"
   ]
  },
  {
   "cell_type": "code",
   "execution_count": 56,
   "metadata": {},
   "outputs": [],
   "source": [
    "import asyncio\n",
    "from duckduckgo_search import AsyncDDGS\n",
    "\n",
    "async def asearch(word, max_results: int = 2):\n",
    "    async with AsyncDDGS() as ddgs:\n",
    "        return await ddgs.atext(word, max_results=max_results)\n",
    "\n",
    "async def get_asearch(words: str, max_results : int = 2):\n",
    "    words = [w.strip() for w in words.split(\",\")] \n",
    "    tasks = [asearch(w, max_results) for w in words]\n",
    "    results = await asyncio.gather(*tasks)\n",
    "    return {\"results\": dict(zip(words, results))} "
   ]
  },
  {
   "cell_type": "markdown",
   "metadata": {},
   "source": [
    "## 1.2 Defining the Function Tool"
   ]
  },
  {
   "cell_type": "code",
   "execution_count": 57,
   "metadata": {},
   "outputs": [],
   "source": [
    "get_vacations = FunctionTool(\n",
    "    vacation_destinations, description=\"Tìm kiếm điểm đến du lịch, xem nó còn trống hay không.\"\n",
    ")"
   ]
  },
  {
   "cell_type": "code",
   "execution_count": 58,
   "metadata": {},
   "outputs": [],
   "source": [
    "get_info_vacations = FunctionTool(\n",
    "    get_asearch, description=\"Tìm kiếm các thông tin về địa điểm du lịch.\"\n",
    ")"
   ]
  },
  {
   "cell_type": "markdown",
   "metadata": {},
   "source": [
    "## 1.3 Defining the Agent"
   ]
  },
  {
   "cell_type": "code",
   "execution_count": 59,
   "metadata": {},
   "outputs": [],
   "source": [
    "agent = AssistantAgent(\n",
    "    name=\"ASSISTANT\",\n",
    "    model_client=client,\n",
    "    tools=[get_vacations, get_info_vacations],\n",
    "    system_message=\"Bạn là 1 đại lý du lịch, giúp người dùng tìm xem điểm đến du lịch còn trống hay không.\",\n",
    "    reflect_on_tool_use=True\n",
    ")"
   ]
  },
  {
   "cell_type": "markdown",
   "metadata": {},
   "source": [
    "## 1.4 Running the Agent"
   ]
  },
  {
   "cell_type": "code",
   "execution_count": 60,
   "metadata": {},
   "outputs": [],
   "source": [
    "async def assistant_run():\n",
    "    response = await agent.on_messages(\n",
    "        [TextMessage(content='Tôi muốn du lịch Huế, còn trống không?. Ở Huế nên đi thăm những nơi nào?, tìm kiếm tối đa 4 địa điểm du lịch thăm quan', source=\"user\")],\n",
    "        cancellation_token=CancellationToken()\n",
    "    )\n",
    "    print(response.inner_messages)\n",
    "    print(response.chat_message)"
   ]
  },
  {
   "cell_type": "code",
   "execution_count": 61,
   "metadata": {},
   "outputs": [
    {
     "name": "stdout",
     "output_type": "stream",
     "text": [
      "[ToolCallRequestEvent(source='ASSISTANT', models_usage=RequestUsage(prompt_tokens=164, completion_tokens=61), content=[FunctionCall(id='call_twPnNvg9zvZagWAiuYKnX4ws', arguments='{\"city\": \"Huế\"}', name='vacation_destinations'), FunctionCall(id='call_iFpHXhmdafGgPfUBM6ZAg3Z4', arguments='{\"words\": \"địa điểm du lịch Huế\", \"max_results\": 4}', name='get_asearch')], type='ToolCallRequestEvent'), ToolCallExecutionEvent(source='ASSISTANT', models_usage=None, content=[FunctionExecutionResult(content=\"('Huế', 'Còn trống')\", call_id='call_twPnNvg9zvZagWAiuYKnX4ws', is_error=False), FunctionExecutionResult(content=\"{'results': {'địa điểm du lịch Huế': [{'title': '17 Địa điểm du lịch Huế hấp dẫn nhất có thể bạn chưa biết', 'href': 'https://www.vntrip.vn/cam-nang/dia-diem-du-lich-hue-17323', 'body': 'Đến thăm quan quần thể di tích Đại Nội Huế, địa điểm du lịch Huế bạn sẽ được chiêm ngưỡng những công trình cung điện nguy nga, đền đài và miếu thờ bề thế, đồ sộ mang đậm nét kiến trúc thời nhà Nguyễn. Không chỉ có cơ hội tìm hiểu thêm về lịch sử, bạn còn được tha hồ chụp ảnh trong không ...'}, {'title': '34 Địa Điểm Du Lịch Huế Nổi Tiếng Cho Hội Tự Túc - Klook Blog', 'href': 'https://www.klook.com/vi/blog/dia-diem-du-lich-hue/', 'body': 'Khám phá các địa điểm du lịch Huế nổi tiếng, từ di tích thời hoàng, cảnh đẹp, đến hoạt động vui chơi. Klook cung cấp vé vào cổng, vé nghe ca, vé xe buýt, vé tàu hoả, vé khoáng nóng và nhiều cảm biến khác.'}, {'title': 'Du lịch Huế: Top 30+ địa điểm du lịch và trọn bộ kinh nghiệm', 'href': 'https://vinpearl.com/vi/kham-pha-co-do-voi-top-34-dia-diem-du-lich-hue-cuc-hap-dan', 'body': '4.4. Phố đi bộ Huế - địa điểm du lịch Huế mới, đầy hấp dẫn. Một trong những địa điểm du lịch ở Huế mới nhất, không gian cho du khách vừa có thể tản bộ ngắm cảnh, vừa có thể tham gia các hoạt động đường phố, ăn các món ăn ngon, đặc sản của Huế. 4.5.'}, {'title': 'Top 35 địa điểm du lịch Huế tuyệt vời nhất định phải ghé', 'href': 'https://huetoplist.com/top-35-dia-diem-du-lich-hue-tuyet-voi-nhat-dinh-phai-ghe/', 'body': 'Địa điểm du lịch Huế tiếp theo cũng độc đáo không kém, chính là Nhà vườn Huế. Với tuổi đời lịch sử trên 200 năm, đây là một dạng vườn cảnh cổ, kết hợp hài hòa giữa kiến trúc nhà ở và vườn cây bao quanh. Nhà vườn Huế vốn là các phủ đệ của quan lại trong ...'}]}}\", call_id='call_iFpHXhmdafGgPfUBM6ZAg3Z4', is_error=False)], type='ToolCallExecutionEvent')]\n",
      "source='ASSISTANT' models_usage=RequestUsage(prompt_tokens=1863, completion_tokens=402) content='Địa điểm du lịch Huế hiện vẫn còn trống cho du khách. Dưới đây là 4 địa điểm nổi bật mà bạn nên ghé thăm khi đến Huế:\\n\\n1. **Đại Nội Huế**: Là di sản văn hóa thế giới được UNESCO công nhận, Đại Nội là nơi lưu giữ nhiều công trình kiến trúc độc đáo, thể hiện rõ nét văn hóa và lịch sử của triều đại Nguyễn.\\n\\n   [Tìm hiểu thêm](https://www.vntrip.vn/cam-nang/dia-diem-du-lich-hue-17323)\\n\\n2. **Nhà thờ Đức Bà**: Một trong những công trình kiến trúc đặc sắc nhất tại Huế, nhà thờ này thu hút nhiều du khách bởi vẻ đẹp và lịch sử của nó.\\n\\n   [Tìm hiểu thêm](https://www.klook.com/vi/blog/dia-diem-du-lich-hue/)\\n\\n3. **Chùa Thiên Mụ**: Là một trong những ngôi chùa nổi tiếng nhất tại Huế, Chùa Thiên Mụ nằm trên đồi Hà Khê, bên bờ sông Hương. Đây cũng là biểu tượng của thành phố Huế.\\n\\n   [Tìm hiểu thêm](https://vinpearl.com/vi/kham-pha-co-do-voi-top-34-dia-diem-du-lich-hue-cuc-hap-dan)\\n\\n4. **Lăng Khải Định**: Là một trong những lăng tẩm của các vua Nguyễn, Lăng Khải Định nổi bật với kiến trúc pha trộn giữa phong cách cổ điển Việt Nam và phong cách phương Tây.\\n\\n   [Tìm hiểu thêm](https://huetoplist.com/top-35-dia-diem-du-lich-hue-tuyet-voi-nhat-dinh-phai-ghe/)\\n\\nHy vọng bạn sẽ có một chuyến đi thật thú vị tại Huế!' type='TextMessage'\n"
     ]
    }
   ],
   "source": [
    "await assistant_run()"
   ]
  },
  {
   "cell_type": "markdown",
   "metadata": {},
   "source": [
    "# 2. Agentic RAG"
   ]
  },
  {
   "attachments": {
    "image.png": {
     "image/png": "[encoded data removed]"
    }
   },
   "cell_type": "markdown",
   "metadata": {},
   "source": [
    "![image.png](attachment:image.png)"
   ]
  },
  {
   "cell_type": "code",
   "execution_count": 3,
   "metadata": {},
   "outputs": [],
   "source": [
    "import os\n",
    "import time\n",
    "import asyncio\n",
    "from typing import List, Dict\n",
    "\n",
    "from autogen_agentchat.agents import AssistantAgent\n",
    "from autogen_core import CancellationToken\n",
    "from autogen_agentchat.messages import TextMessage\n",
    "from azure.core.credentials import AzureKeyCredential\n",
    "from autogen_ext.models.azure import AzureAIChatCompletionClient"
   ]
  },
  {
   "cell_type": "markdown",
   "metadata": {},
   "source": [
    "## 2.1 Create the Client"
   ]
  },
  {
   "cell_type": "code",
   "execution_count": 30,
   "metadata": {},
   "outputs": [],
   "source": [
    "# client = AzureAIChatCompletionClient(\n",
    "#     model=\"gpt-4o-mini\",\n",
    "#     endpoint=\"https://models.inference.ai.azure.com\",\n",
    "#     credential=AzureKeyCredential(GITHUB_TOKEN),\n",
    "#     model_info={\n",
    "#         \"json_output\": True,\n",
    "#         \"function_calling\": True,\n",
    "#         \"vision\": True,\n",
    "#         \"family\": \"unknown\"\n",
    "#     }\n",
    "# )\n",
    "\n",
    "client = AzureAIChatCompletionClient(\n",
    "    model=\"Phi-3.5-MoE-instruct\",\n",
    "    endpoint=\"https://models.inference.ai.azure.com\",\n",
    "    credential=AzureKeyCredential(GITHUB_TOKEN),\n",
    "    model_info={\n",
    "        \"json_output\": True,\n",
    "        \"function_calling\": True,\n",
    "        \"vision\": True,\n",
    "        \"family\": \"unknown\"\n",
    "    }\n",
    ")"
   ]
  },
  {
   "cell_type": "markdown",
   "metadata": {},
   "source": [
    "## 2.2 Elasticsearch Initialization"
   ]
  },
  {
   "cell_type": "code",
   "execution_count": 52,
   "metadata": {},
   "outputs": [],
   "source": [
    "from elasticsearch import Elasticsearch\n",
    "from sentence_transformers import SentenceTransformer\n",
    "import torch\n",
    "from utils import get_es_client\n",
    "from searching import hybrid_search\n",
    "from config import INDEX_NAME_DEFAULT, INDEX_NAME_N_GRAM, INDEX_NAME_EMBEDDING, INDEX_NAME_HYBRID\n",
    "import asyncio"
   ]
  },
  {
   "cell_type": "code",
   "execution_count": 53,
   "metadata": {},
   "outputs": [],
   "source": [
    "device = torch.device('cuda' if torch.cuda.is_available() else 'cpu')\n",
    "#VietNamese embedding: https://huggingface.co/sentence-transformers/paraphrase-multilingual-MiniLM-L12-v2?library=sentence-transformers\n",
    "model = SentenceTransformer(\"paraphrase-multilingual-MiniLM-L12-v2\").to(device)"
   ]
  },
  {
   "cell_type": "code",
   "execution_count": 54,
   "metadata": {},
   "outputs": [
    {
     "name": "stdout",
     "output_type": "stream",
     "text": [
      "Connected to Elasticsearch! \n",
      "\n",
      "ObjectApiResponse({'name': 'INT-LDSQUYH-LAP', 'cluster_name': 'elasticsearch', 'cluster_uuid': 'UfBw1_LjTRmCyG3m5Qb02A', 'version': {'number': '8.17.2', 'build_flavor': 'default', 'build_type': 'zip', 'build_hash': '747663ddda3421467150de0e4301e8d4bc636b0c', 'build_date': '2025-02-05T22:10:57.067596412Z', 'build_snapshot': False, 'lucene_version': '9.12.0', 'minimum_wire_compatibility_version': '7.17.0', 'minimum_index_compatibility_version': '7.0.0'}, 'tagline': 'You Know, for Search'})\n"
     ]
    }
   ],
   "source": [
    "results = await hybrid_search(search_query=\"Thực tập\", top_k=4, model=model)"
   ]
  },
  {
   "cell_type": "code",
   "execution_count": 55,
   "metadata": {},
   "outputs": [
    {
     "name": "stdout",
     "output_type": "stream",
     "text": [
      "['Ngày 13/09, tại hall A, lab 6, TMA đã tổ chức buổi tổng kết cho các bạn sinh viên tham gia thực tập tại TMA trong 3 tháng hè vừa qua. Tại đây, chị Trang Bùi - Giám đốc trung tâm Đào tạo TMA cũng đã vinh danh và trao thưởng top 5 bạn thực tập có thành tích xuất sắc nhất. Các bạn hoàn thành chương trình cũng được cấp chứng nhận thực tập từ TMA.', 'Dành phần lớn thời gian ở nhà trong thời kỳ giãn cách, cơ thể bạn đã lên tiếng vì nhức mỏi chưa? Đừng quên rằng ngoài chăm chỉ làm việc, ăn uống đầy đủ chất, thì một chế độ tập luyện hợp lý là vô cùng quan trọng để bạn có thể vừa đẹp, vừa khỏe và hẹn ngày trở lại công ty thật lợi hại. Nhằm tạo động lực cho các thành viên tăng cường vận động mỗi ngày, TMA tổ chức cuộc thi “Không ngại giãn cách - Vượt luôn thử thách”. Tham gia thử thách này, các bạn không chỉ được cùng đồng nghiệp tập luyện thể thao, mà còn có cơ hội rinh nhiều giải thưởng hấp dẫn.', 'Ngày 01/06 vừa qua, khóa thực tập thứ 3 của Industry Internship - TMA Bình Định đã khép lại. Tại buổi lễ tổng kết, tốt nghiệp, 29 sinh viên, đến từ trường đại học Quy Nhơn và đại học Phú Yên, có kết quả thực tập tốt đã được trao chứng chỉ và vinh danh.', 'Không phải thi đấu trong thể thao lúc nào cũng đòi hỏi nhiều thể lực. Đến với thế giới các quân cờ, dù không có những động tác mạnh, những màn cổ vũ náo nhiệt, các kỳ thủ vẫn bước vào trận đấu trí không hề kém phần kịch tính và gay cấn. Có lẽ nhờ sự “êm đềm” này mà làng Cờ vua, Cờ tướng, Cờ úp tại Đại hội thể thao - Văn nghệ TMA luôn được các TMAers yêu thích sự nhẹ nhàng - trí tuệ hưởng ứng.', 'Anh Đào Lâm Giang, DC14 – BU7, quen mặt với nhiều thế hệ sinh viên khi đến tham quan TMA vì anh chính là một “case study” chính hiệu cho hành trình từ thực tập sinh đến quản lý dự án trong ngành CNTT. Sau 12 năm gắn bó tại TMA, hiện tại, anh đã là một Quản lý Cấp cao Dự án tài năng.', 'Ném phi tiêu không chỉ là trò chơi giải trí đơn thuần, mà còn là môn thể thao đòi hỏi sự kết hợp nhuần nhuyễn giữa kỹ thuật, sự tập trung, cùng với đó là may mắn. Điều này một lần nữa được minh chứng rõ nét tại giải Ném phi tiêu TMA năm nay. Tại đây, trong buổi sáng thứ Bảy đầy sôi động tại phòng Gym - TMA Lab 6 vừa qua, một sàn đấu kịch tính đã được dựng lên để các “tiêu thủ” từ khắp các DC và phòng ban cùng phô diễn tài năng.', 'Danh sách các bạn sinh viên thực tập tại TMA trong Batch 25', 'Giữa bộn bề cuộc sống hiện đại, chàng trai 9x - Phạm Quang Thụy - cũng là một thành viên đã gắn bó nhiều năm với TMA đã thắp lên ngọn lửa nhân ái khi tham gia hơn 20 lần hiến máu nhân đạo cùng nhiều hoạt động thiện nguyện ý nghĩa. Thông qua những hoạt động này, anh không chỉ góp phần giúp đỡ cộng đồng mà còn truyền cảm hứng về lòng nhân ái và sự sẻ chia. Không chỉ vậy, cuộc sống của anh còn được tô vẽ thêm màu sắc với nhiều đam mê thú vị. Hãy cùng chúng mình tìm hiểu nhé.']\n"
     ]
    }
   ],
   "source": [
    "print(results)"
   ]
  },
  {
   "cell_type": "markdown",
   "metadata": {},
   "source": [
    "## 2.3 Agent Configuration"
   ]
  },
  {
   "cell_type": "code",
   "execution_count": 56,
   "metadata": {},
   "outputs": [],
   "source": [
    "# # Create agents with enhanced capabilities\n",
    "# assistant = AssistantAgent(\n",
    "#     name=\"Assistant_Nhu_Y\",\n",
    "#     model_client=client,\n",
    "#     system_message=(\n",
    "#         \"Bạn là 1 trợ lý thông minh trả lời một cách ngắn gọn và xúc tích, chỉ trả lời những thông tin có trong ngữ cảnh. \"\n",
    "#         \"Không được trả lời thông tin từ nguồn bên ngoài, nêu không có câu trả lời phù hợp thì trả lời là tôi không biết. Câu trả lời của bạn chỉ được phép sử dụng thông tin với ngữ cảnh sau đây.\"\n",
    "#     ),\n",
    "# )\n",
    "\n",
    "assistant = AssistantAgent(\n",
    "    name=\"Assistant_Nhu_Y\",\n",
    "    model_client=client,\n",
    "    system_message=(\n",
    "        \"Bạn là 1 trợ lý thông minh khi trả lời nêu ra theo từng chỉ mục. \"\n",
    "        \"Không được trả lời thông tin từ nguồn bên ngoài, nêu không có câu trả lời phù hợp thì trả lời là tôi không biết và dừng trả lời.\"\n",
    "    ),\n",
    ")"
   ]
  },
  {
   "cell_type": "markdown",
   "metadata": {},
   "source": [
    "## 2.4 Define RAG Evaluator Class"
   ]
  },
  {
   "cell_type": "code",
   "execution_count": 57,
   "metadata": {},
   "outputs": [],
   "source": [
    "class RAGEvaluator:\n",
    "    def __init__(self):\n",
    "        self.responses: List[Dict] = []\n",
    "    \n",
    "    def evaluate_response(self, query: str, response: str, context: List[str]) -> Dict:\n",
    "        # Basic metrics: response length, citation count, and a simple relevance score.\n",
    "        start_time = time.time()\n",
    "        metrics = {\n",
    "            'response_length': len(response),\n",
    "            # 'source_citations': sum(1 for doc in context if doc in response),\n",
    "            'evaluation_time': time.time() - start_time,\n",
    "            # 'context_relevance': self._calculate_relevance(query, context)\n",
    "        }\n",
    "        self.responses.append({\n",
    "            'query': query,\n",
    "            'response': response,\n",
    "            'metrics': metrics\n",
    "        })\n",
    "        return metrics\n",
    "\n",
    "    def _calculate_relevance(self, query: str, context: List[str]) -> float:\n",
    "        # Simple relevance score: fraction of the documents where the query appears.\n",
    "        return sum(1 for c in context if query.lower() in c.lower()) / len(context)"
   ]
  },
  {
   "cell_type": "markdown",
   "metadata": {},
   "source": [
    "## 2.5 Query Processing with RAG"
   ]
  },
  {
   "cell_type": "code",
   "execution_count": 58,
   "metadata": {},
   "outputs": [],
   "source": [
    "async def ask_rag(query: str, evaluator: RAGEvaluator):\n",
    "    retrieval_context = await hybrid_search(search_query=query, top_k=3, model=model)\n",
    "    # Augment the query with the retrieval context.\n",
    "    augmented_query = (\n",
    "        f\"Ngữ cảnh truy xuất:\\n{retrieval_context}\\n\\n\"\n",
    "        f\"Câu hỏi người dùng: {query}\\n\\n\"\n",
    "        \"Chỉ dựa vào ngữ cảnh, hãy cung cấp câu trả lời. Nếu không có thông tin trong ngữ cảnh phù hợp thì trả lời là tôi không biết.\"\n",
    "    )\n",
    "    # Send the augmented query as a user message.\n",
    "    start_time = time.time()\n",
    "    response = await assistant.on_messages(\n",
    "        [TextMessage(content=augmented_query, source=\"user\")],\n",
    "        cancellation_token=CancellationToken(),\n",
    "    )\n",
    "    processing_time = time.time() - start_time\n",
    "    # Evaluate the response against our vector-store documents.\n",
    "    metrics = evaluator.evaluate_response(\n",
    "        query=query,\n",
    "        response=response.chat_message.content,\n",
    "        context=retrieval_context # context=documents               \n",
    "    )\n",
    "    return {\n",
    "        'response': response.chat_message.content,\n",
    "        'processing_time': processing_time,\n",
    "        'metrics': metrics,\n",
    "    }\n",
    "    "
   ]
  },
  {
   "cell_type": "code",
   "execution_count": 59,
   "metadata": {},
   "outputs": [],
   "source": [
    "evaluator = RAGEvaluator()\n",
    "queries = [\n",
    "    \"Thông tin các sự kiện ở TMA?\", # Relevant document\n",
    "    \"Deeplearning là gì?\" # No relevant document\n",
    "]"
   ]
  },
  {
   "cell_type": "code",
   "execution_count": 61,
   "metadata": {},
   "outputs": [
    {
     "name": "stdout",
     "output_type": "stream",
     "text": [
      "\n",
      "Processing Query: Thông tin các sự kiện ở TMA?\n",
      "Connected to Elasticsearch! \n",
      "\n",
      "ObjectApiResponse({'name': 'INT-LDSQUYH-LAP', 'cluster_name': 'elasticsearch', 'cluster_uuid': 'UfBw1_LjTRmCyG3m5Qb02A', 'version': {'number': '8.17.2', 'build_flavor': 'default', 'build_type': 'zip', 'build_hash': '747663ddda3421467150de0e4301e8d4bc636b0c', 'build_date': '2025-02-05T22:10:57.067596412Z', 'build_snapshot': False, 'lucene_version': '9.12.0', 'minimum_wire_compatibility_version': '7.17.0', 'minimum_index_compatibility_version': '7.0.0'}, 'tagline': 'You Know, for Search'})\n",
      "\n",
      " Câu trả lời: \n",
      "  Trong ngữ cảnh được cung cấp, TMA tham gia và tổ chức nhiều sự kiện như sau:\n",
      "\n",
      "1. TMA phối hợp với các trường đại học tổ chức nhiều webinar bổ ích về công nghệ mới và định hướng nghề nghiệp cho hơn 1000 sinh viên vào tháng 8.\n",
      "2. TMA góp mặt tại đa dạng các sự kiện trong tháng 4 để duy trì hoạt động kết nối với các trường ĐH và hỗ trợ cho các hoạt động truyền thông, học thuật, kết nối sinh viên.\n",
      "3. TMA phát động cuộc thi ảnh \"Sáng tạo cùng logo TMA\" trong tháng 9 để chào mừng 25 năm thành lập.\n",
      "4. TMA và các trường đại học tiếp tục kết nối chặt chẽ thông qua nhiều hoạt động học thuật.\n",
      "5. Văn phòng TMA tại Bình Định - Lab 8 sẽ đi vào hoạt động vào ngày 11/06/2018.\n",
      "\n",
      "Tôi không biết thông tin về các sự kiện khác ngoài những sự kiện được nhắc đến trong ngữ cảnh.\n",
      "\n",
      "Thời gian phản hồi:  44.70105171203613\n",
      "\n",
      "============================================================\n",
      "\n",
      "\n",
      "Processing Query: Deeplearning là gì?\n",
      "Connected to Elasticsearch! \n",
      "\n",
      "ObjectApiResponse({'name': 'INT-LDSQUYH-LAP', 'cluster_name': 'elasticsearch', 'cluster_uuid': 'UfBw1_LjTRmCyG3m5Qb02A', 'version': {'number': '8.17.2', 'build_flavor': 'default', 'build_type': 'zip', 'build_hash': '747663ddda3421467150de0e4301e8d4bc636b0c', 'build_date': '2025-02-05T22:10:57.067596412Z', 'build_snapshot': False, 'lucene_version': '9.12.0', 'minimum_wire_compatibility_version': '7.17.0', 'minimum_index_compatibility_version': '7.0.0'}, 'tagline': 'You Know, for Search'})\n",
      "\n",
      " Câu trả lời: \n",
      "  Tôi không biết thông tin về \"Deeplearning\" trong ngữ cảnh được cung cấp.\n",
      "\n",
      "Thời gian phản hồi:  4.491675853729248\n",
      "\n",
      "============================================================\n",
      "\n"
     ]
    }
   ],
   "source": [
    "for query in queries:\n",
    "    print(f\"\\nProcessing Query: {query}\")\n",
    "    result = await ask_rag(query, evaluator)\n",
    "    if result:\n",
    "        print(\"\\n Câu trả lời: \\n\", result['response'])\n",
    "        print(\"\\nThời gian phản hồi: \", result['processing_time'])\n",
    "        # print(\"\\nĐánh giá: \", result['metrics'])\n",
    "    print(\"\\n\" + \"=\"*60 + \"\\n\")"
   ]
  },
  {
   "cell_type": "code",
   "execution_count": null,
   "metadata": {},
   "outputs": [],
   "source": []
  },
  {
   "cell_type": "code",
   "execution_count": null,
   "metadata": {},
   "outputs": [],
   "source": []
  },
  {
   "cell_type": "code",
   "execution_count": null,
   "metadata": {},
   "outputs": [],
   "source": []
  },
  {
   "cell_type": "code",
   "execution_count": null,
   "metadata": {},
   "outputs": [],
   "source": []
  },
  {
   "cell_type": "code",
   "execution_count": null,
   "metadata": {},
   "outputs": [
    {
     "name": "stdout",
     "output_type": "stream",
     "text": [
      "<coroutine object hybrid_search at 0x000001E805686650>\n"
     ]
    }
   ],
   "source": []
  },
  {
   "cell_type": "code",
   "execution_count": null,
   "metadata": {},
   "outputs": [],
   "source": []
  }
 ],
 "metadata": {
  "kernelspec": {
   "display_name": "myenv",
   "language": "python",
   "name": "python3"
  },
  "language_info": {
   "codemirror_mode": {
    "name": "ipython",
    "version": 3
   },
   "file_extension": ".py",
   "mimetype": "text/x-python",
   "name": "python",
   "nbconvert_exporter": "python",
   "pygments_lexer": "ipython3",
   "version": "3.10.0"
  }
 },
 "nbformat": 4,
 "nbformat_minor": 2
}
